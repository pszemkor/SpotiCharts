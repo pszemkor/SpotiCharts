{
 "cells": [
  {
   "cell_type": "code",
   "execution_count": 1,
   "metadata": {},
   "outputs": [],
   "source": [
    "from fycharts.SpotifyCharts import SpotifyCharts\n",
    "import numpy as np\n",
    "import pandas as pd\n",
    "import sqlalchemy\n",
    "import matplotlib\n",
    "from matplotlib import pyplot as plt\n",
    "from datetime import date, timedelta\n",
    "import requests\n",
    "from dotenv import load_dotenv\n",
    "import os\n",
    "import json\n",
    "import urllib.parse"
   ]
  },
  {
   "cell_type": "code",
   "execution_count": 2,
   "metadata": {},
   "outputs": [],
   "source": [
    " \"\"\"\n",
    "1. create .env file\n",
    "2. Paste your Spotify OAuth Token:\n",
    "TOKEN=%{OAuth_Token}\n",
    "\n",
    "it is included in .gitignore, don't change it 😊\n",
    "\"\"\"\n",
    "load_dotenv(verbose=True)\n",
    "spotify_token = os.getenv(\"TOKEN\")"
   ]
  },
  {
   "cell_type": "code",
   "execution_count": 3,
   "metadata": {},
   "outputs": [
    {
     "data": {
      "text/html": [
       "<div>\n",
       "<style scoped>\n",
       "    .dataframe tbody tr th:only-of-type {\n",
       "        vertical-align: middle;\n",
       "    }\n",
       "\n",
       "    .dataframe tbody tr th {\n",
       "        vertical-align: top;\n",
       "    }\n",
       "\n",
       "    .dataframe thead th {\n",
       "        text-align: right;\n",
       "    }\n",
       "</style>\n",
       "<table border=\"1\" class=\"dataframe\">\n",
       "  <thead>\n",
       "    <tr style=\"text-align: right;\">\n",
       "      <th></th>\n",
       "      <th>Position</th>\n",
       "      <th>Track Name</th>\n",
       "      <th>Artist</th>\n",
       "      <th>Streams</th>\n",
       "      <th>date</th>\n",
       "      <th>region</th>\n",
       "      <th>spotify_id</th>\n",
       "    </tr>\n",
       "  </thead>\n",
       "  <tbody>\n",
       "    <tr>\n",
       "      <th>0</th>\n",
       "      <td>1.0</td>\n",
       "      <td>The Box</td>\n",
       "      <td>Roddy Ricch</td>\n",
       "      <td>1812103.0</td>\n",
       "      <td>2020-01-01</td>\n",
       "      <td>us</td>\n",
       "      <td>0nbXyq5TXYPCO7pr3N8S4I</td>\n",
       "    </tr>\n",
       "    <tr>\n",
       "      <th>1</th>\n",
       "      <td>2.0</td>\n",
       "      <td>ROXANNE</td>\n",
       "      <td>Arizona Zervas</td>\n",
       "      <td>1400495.0</td>\n",
       "      <td>2020-01-01</td>\n",
       "      <td>us</td>\n",
       "      <td>696DnlkuDOXcMAnKlTgXXK</td>\n",
       "    </tr>\n",
       "    <tr>\n",
       "      <th>2</th>\n",
       "      <td>3.0</td>\n",
       "      <td>Circles</td>\n",
       "      <td>Post Malone</td>\n",
       "      <td>1186861.0</td>\n",
       "      <td>2020-01-01</td>\n",
       "      <td>us</td>\n",
       "      <td>21jGcNKet2qwijlDFuPiPb</td>\n",
       "    </tr>\n",
       "    <tr>\n",
       "      <th>3</th>\n",
       "      <td>4.0</td>\n",
       "      <td>BOP</td>\n",
       "      <td>DaBaby</td>\n",
       "      <td>1130123.0</td>\n",
       "      <td>2020-01-01</td>\n",
       "      <td>us</td>\n",
       "      <td>6Ozh9Ok6h4Oi1wUSLtBseN</td>\n",
       "    </tr>\n",
       "    <tr>\n",
       "      <th>4</th>\n",
       "      <td>5.0</td>\n",
       "      <td>Bandit (with YoungBoy Never Broke Again)</td>\n",
       "      <td>Juice WRLD</td>\n",
       "      <td>968612.0</td>\n",
       "      <td>2020-01-01</td>\n",
       "      <td>us</td>\n",
       "      <td>6Gg1gjgKi2AK4e0qzsR7sd</td>\n",
       "    </tr>\n",
       "  </tbody>\n",
       "</table>\n",
       "</div>"
      ],
      "text/plain": [
       "   Position                                Track Name          Artist  \\\n",
       "0       1.0                                   The Box     Roddy Ricch   \n",
       "1       2.0                                   ROXANNE  Arizona Zervas   \n",
       "2       3.0                                   Circles     Post Malone   \n",
       "3       4.0                                       BOP          DaBaby   \n",
       "4       5.0  Bandit (with YoungBoy Never Broke Again)      Juice WRLD   \n",
       "\n",
       "     Streams        date region              spotify_id  \n",
       "0  1812103.0  2020-01-01     us  0nbXyq5TXYPCO7pr3N8S4I  \n",
       "1  1400495.0  2020-01-01     us  696DnlkuDOXcMAnKlTgXXK  \n",
       "2  1186861.0  2020-01-01     us  21jGcNKet2qwijlDFuPiPb  \n",
       "3  1130123.0  2020-01-01     us  6Ozh9Ok6h4Oi1wUSLtBseN  \n",
       "4   968612.0  2020-01-01     us  6Gg1gjgKi2AK4e0qzsR7sd  "
      ]
     },
     "execution_count": 3,
     "metadata": {},
     "output_type": "execute_result"
    }
   ],
   "source": [
    "df = pd.read_csv(\"../2020-2021_daily_top_200.csv\")\n",
    "df.head()"
   ]
  },
  {
   "cell_type": "code",
   "execution_count": 4,
   "metadata": {},
   "outputs": [],
   "source": [
    "def get_headers():\n",
    "    return {'Authorization' : 'Bearer {}'.format(spotify_token),\n",
    "            'Content-Type': 'application/json',\n",
    "            'Accept': 'application/json'}"
   ]
  },
  {
   "cell_type": "code",
   "execution_count": 5,
   "metadata": {},
   "outputs": [],
   "source": [
    "def get_artist_id_by_track_id(track_id):\n",
    "    pass"
   ]
  },
  {
   "cell_type": "code",
   "execution_count": 6,
   "metadata": {},
   "outputs": [],
   "source": [
    "def get_albums_of_tracks(ids):\n",
    "    endpoint = \"https://api.spotify.com/v1/tracks?ids=\"\n",
    "    for i, track_id in enumerate(ids):\n",
    "        endpoint += track_id\n",
    "        if i != len(ids) - 1:\n",
    "            endpoint += \",\"        \n",
    "    response = requests.get(endpoint, headers=get_headers())\n",
    "    tracks = json.loads(response.text)['tracks']\n",
    "    track_album = {}\n",
    "    for track in tracks:\n",
    "        album = track['album']\n",
    "        album_id = album['id']\n",
    "        track_album[track['id']] = album_id\n",
    "    return track_album"
   ]
  },
  {
   "cell_type": "code",
   "execution_count": 7,
   "metadata": {},
   "outputs": [],
   "source": [
    "def get_tracks_from_album(album_id):\n",
    "    endpoint = 'https://api.spotify.com/v1/albums/{}/tracks'.format(album_id)\n",
    "    response = requests.get(endpoint, headers=get_headers())\n",
    "    track_ids = []\n",
    "    response_dict = json.loads(response.text)\n",
    "    for item in response_dict['items']:\n",
    "        track_ids.append(item['id'])\n",
    "    return track_ids\n"
   ]
  },
  {
   "cell_type": "code",
   "execution_count": 8,
   "metadata": {},
   "outputs": [],
   "source": [
    "def get_track_features(track_id):\n",
    "    endpoint = \"https://api.spotify.com/v1/audio-features/{}\".format(track_id)\n",
    "    response = requests.get(endpoint, headers=get_headers())\n",
    "    return json.loads(response.text)"
   ]
  },
  {
   "cell_type": "code",
   "execution_count": 9,
   "metadata": {},
   "outputs": [],
   "source": [
    "def extract_relevant_features(audio_features):\n",
    "    relevant_audio_features = ['danceability', 'energy', 'loudness',\n",
    "                               'speechiness', 'acousticness', 'instrumentalness',\n",
    "                               'liveness', 'valence','tempo', 'duration_ms', 'id']\n",
    "    relevant_features_dict = {}\n",
    "    for key in relevant_audio_features:\n",
    "        relevant_features_dict[key] = audio_features[key]\n",
    "    return relevant_features_dict"
   ]
  },
  {
   "cell_type": "code",
   "execution_count": 10,
   "metadata": {},
   "outputs": [],
   "source": [
    "def chunks(lst, n):\n",
    "    for i in range(0, len(lst), n):\n",
    "        yield lst[i:i + n]"
   ]
  },
  {
   "cell_type": "code",
   "execution_count": 11,
   "metadata": {},
   "outputs": [
    {
     "data": {
      "text/plain": [
       "{'error': {'status': 401, 'message': 'Invalid access token'}}"
      ]
     },
     "execution_count": 11,
     "metadata": {},
     "output_type": "execute_result"
    }
   ],
   "source": [
    "get_track_features('06AKEBrKUckW0KREUWRnvT')"
   ]
  },
  {
   "cell_type": "code",
   "execution_count": 12,
   "metadata": {},
   "outputs": [
    {
     "ename": "KeyError",
     "evalue": "'tracks'",
     "output_type": "error",
     "traceback": [
      "\u001b[0;31m---------------------------------------------------------------------------\u001b[0m",
      "\u001b[0;31mKeyError\u001b[0m                                  Traceback (most recent call last)",
      "\u001b[0;32m<ipython-input-12-370a4a7b0dc9>\u001b[0m in \u001b[0;36m<module>\u001b[0;34m\u001b[0m\n\u001b[0;32m----> 1\u001b[0;31m \u001b[0mget_albums_of_tracks\u001b[0m\u001b[0;34m(\u001b[0m\u001b[0;34m[\u001b[0m\u001b[0;34m'06AKEBrKUckW0KREUWRnvT'\u001b[0m\u001b[0;34m]\u001b[0m\u001b[0;34m)\u001b[0m\u001b[0;34m\u001b[0m\u001b[0;34m\u001b[0m\u001b[0m\n\u001b[0m",
      "\u001b[0;32m<ipython-input-6-8c6acf0033ee>\u001b[0m in \u001b[0;36mget_albums_of_tracks\u001b[0;34m(ids)\u001b[0m\n\u001b[1;32m      6\u001b[0m             \u001b[0mendpoint\u001b[0m \u001b[0;34m+=\u001b[0m \u001b[0;34m\",\"\u001b[0m\u001b[0;34m\u001b[0m\u001b[0;34m\u001b[0m\u001b[0m\n\u001b[1;32m      7\u001b[0m     \u001b[0mresponse\u001b[0m \u001b[0;34m=\u001b[0m \u001b[0mrequests\u001b[0m\u001b[0;34m.\u001b[0m\u001b[0mget\u001b[0m\u001b[0;34m(\u001b[0m\u001b[0mendpoint\u001b[0m\u001b[0;34m,\u001b[0m \u001b[0mheaders\u001b[0m\u001b[0;34m=\u001b[0m\u001b[0mget_headers\u001b[0m\u001b[0;34m(\u001b[0m\u001b[0;34m)\u001b[0m\u001b[0;34m)\u001b[0m\u001b[0;34m\u001b[0m\u001b[0;34m\u001b[0m\u001b[0m\n\u001b[0;32m----> 8\u001b[0;31m     \u001b[0mtracks\u001b[0m \u001b[0;34m=\u001b[0m \u001b[0mjson\u001b[0m\u001b[0;34m.\u001b[0m\u001b[0mloads\u001b[0m\u001b[0;34m(\u001b[0m\u001b[0mresponse\u001b[0m\u001b[0;34m.\u001b[0m\u001b[0mtext\u001b[0m\u001b[0;34m)\u001b[0m\u001b[0;34m[\u001b[0m\u001b[0;34m'tracks'\u001b[0m\u001b[0;34m]\u001b[0m\u001b[0;34m\u001b[0m\u001b[0;34m\u001b[0m\u001b[0m\n\u001b[0m\u001b[1;32m      9\u001b[0m     \u001b[0mtrack_album\u001b[0m \u001b[0;34m=\u001b[0m \u001b[0;34m{\u001b[0m\u001b[0;34m}\u001b[0m\u001b[0;34m\u001b[0m\u001b[0;34m\u001b[0m\u001b[0m\n\u001b[1;32m     10\u001b[0m     \u001b[0;32mfor\u001b[0m \u001b[0mtrack\u001b[0m \u001b[0;32min\u001b[0m \u001b[0mtracks\u001b[0m\u001b[0;34m:\u001b[0m\u001b[0;34m\u001b[0m\u001b[0;34m\u001b[0m\u001b[0m\n",
      "\u001b[0;31mKeyError\u001b[0m: 'tracks'"
     ]
    }
   ],
   "source": [
    "get_albums_of_tracks(['06AKEBrKUckW0KREUWRnvT'])"
   ]
  },
  {
   "cell_type": "code",
   "execution_count": null,
   "metadata": {},
   "outputs": [],
   "source": [
    "get_tracks_from_album('7q4gKzB9XsZ4MfGj4RYQko')"
   ]
  },
  {
   "cell_type": "code",
   "execution_count": null,
   "metadata": {},
   "outputs": [],
   "source": [
    "us_df = df[df['region'] == 'us']\n",
    "top_tracks_ids = set(us_df['spotify_id'].values)\n",
    "print(len(top_tracks_ids))"
   ]
  },
  {
   "cell_type": "code",
   "execution_count": null,
   "metadata": {},
   "outputs": [],
   "source": [
    "albums = []\n",
    "for chunk in chunks(list(top_tracks_ids),4):\n",
    "    ids = get_albums_of_tracks(chunk).values()\n",
    "    albums.extend(ids)\n"
   ]
  },
  {
   "cell_type": "code",
   "execution_count": null,
   "metadata": {},
   "outputs": [],
   "source": [
    "all_tracks = []\n",
    "for album in albums:\n",
    "    tracks = get_tracks_from_album(album)\n",
    "    all_tracks.extend(tracks)    "
   ]
  },
  {
   "cell_type": "code",
   "execution_count": null,
   "metadata": {},
   "outputs": [],
   "source": [
    "rows = []\n",
    "for track in all_tracks:\n",
    "    try:\n",
    "        features = extract_relevant_features(get_track_features(track))\n",
    "        features['viral'] = track in top_tracks_ids\n",
    "        rows.append(features)\n",
    "    except Exception as e:\n",
    "        print(e)"
   ]
  },
  {
   "cell_type": "code",
   "execution_count": null,
   "metadata": {},
   "outputs": [],
   "source": [
    "dev_data = pd.DataFrame(rows)"
   ]
  },
  {
   "cell_type": "code",
   "execution_count": null,
   "metadata": {},
   "outputs": [],
   "source": [
    "len(dev_data)"
   ]
  },
  {
   "cell_type": "code",
   "execution_count": null,
   "metadata": {},
   "outputs": [],
   "source": []
  },
  {
   "cell_type": "code",
   "execution_count": null,
   "metadata": {},
   "outputs": [],
   "source": [
    "dev_data.head()"
   ]
  },
  {
   "cell_type": "code",
   "execution_count": null,
   "metadata": {},
   "outputs": [],
   "source": [
    "len(dev_data[dev_data['viral'] == False])"
   ]
  },
  {
   "cell_type": "code",
   "execution_count": null,
   "metadata": {},
   "outputs": [],
   "source": [
    "dev_data.to_csv('us_2020_top200.csv')"
   ]
  },
  {
   "cell_type": "code",
   "execution_count": null,
   "metadata": {},
   "outputs": [],
   "source": [
    "dev_data = pd.read_csv('us_2020_top200.csv', index_col=0)"
   ]
  },
  {
   "cell_type": "code",
   "execution_count": null,
   "metadata": {},
   "outputs": [],
   "source": [
    "dev_data.head()"
   ]
  },
  {
   "cell_type": "code",
   "execution_count": null,
   "metadata": {},
   "outputs": [],
   "source": [
    "targets = dev_data['viral'].values\n",
    "del dev_data['id']\n",
    "del dev_data['viral']\n",
    "X = dev_data"
   ]
  },
  {
   "cell_type": "code",
   "execution_count": null,
   "metadata": {},
   "outputs": [],
   "source": [
    "X.head()"
   ]
  },
  {
   "cell_type": "markdown",
   "metadata": {},
   "source": [
    "### PCA Analysis"
   ]
  },
  {
   "cell_type": "code",
   "execution_count": null,
   "metadata": {},
   "outputs": [],
   "source": [
    "from sklearn.decomposition import PCA\n",
    "from sklearn.preprocessing import scale\n",
    "X_scaled = scale(X.values)\n",
    "pca = PCA()"
   ]
  },
  {
   "cell_type": "code",
   "execution_count": null,
   "metadata": {},
   "outputs": [],
   "source": [
    "X_transformed = pca.fit_transform(X_scaled)"
   ]
  },
  {
   "cell_type": "code",
   "execution_count": null,
   "metadata": {},
   "outputs": [],
   "source": [
    "X_transformed.shape"
   ]
  },
  {
   "cell_type": "code",
   "execution_count": null,
   "metadata": {},
   "outputs": [],
   "source": [
    "variance_ratio = pca.explained_variance_ratio_\n",
    "plt.plot(variance_ratio, 'ro')\n",
    "plt.show()\n",
    "for i in range(1, 11):\n",
    "    print(\"{} components:\".format(i), sum(variance_ratio[0:i]))"
   ]
  },
  {
   "cell_type": "code",
   "execution_count": null,
   "metadata": {},
   "outputs": [],
   "source": [
    "def plot_vectors(score,coeff,labels=None):\n",
    "    xs = score[:,0]\n",
    "    ys = score[:,1]\n",
    "    n = coeff.shape[0]\n",
    "    scalex = 1.0/(xs.max() - xs.min())\n",
    "    scaley = 1.0/(ys.max() - ys.min())\n",
    "    plt.figure(figsize=(20,20))\n",
    "    plt.scatter(xs * scalex,ys * scaley)\n",
    "    for i in range(n):\n",
    "        plt.arrow(0, 0, coeff[i,0], coeff[i,1],color = 'r',alpha = 0.5)\n",
    "        if labels is None:\n",
    "            plt.text(coeff[i,0]* 1.15, coeff[i,1] * 1.15, \"Var\"+str(i+1), color = 'b', ha = 'center', va = 'center')\n",
    "        else:\n",
    "            plt.text(coeff[i,0]* 1.15, coeff[i,1] * 1.15, labels[i], color = 'b', ha = 'center', va = 'center')\n",
    "    plt.xlim(-1,1)\n",
    "    plt.ylim(-1,1)\n",
    "    plt.xlabel(\"PC{}\".format(1))\n",
    "    plt.ylabel(\"PC{}\".format(2))\n",
    "    plt.grid()"
   ]
  },
  {
   "cell_type": "code",
   "execution_count": null,
   "metadata": {},
   "outputs": [],
   "source": [
    "attributes = dev_data.columns.values\n",
    "attributes"
   ]
  },
  {
   "cell_type": "code",
   "execution_count": null,
   "metadata": {},
   "outputs": [],
   "source": [
    "plot_vectors(X_transformed[:,0:2],np.transpose(pca.components_[0:2, :]),labels = attributes)\n",
    "plt.show()"
   ]
  },
  {
   "cell_type": "code",
   "execution_count": null,
   "metadata": {},
   "outputs": [],
   "source": [
    "pca.components_[0]"
   ]
  },
  {
   "cell_type": "code",
   "execution_count": null,
   "metadata": {},
   "outputs": [],
   "source": [
    "def get_top_last_words(components, labels, index, n=15):  \n",
    "    pc = components[index]\n",
    "    zipped_pc = []\n",
    "    for label, value in zip(labels, pc):\n",
    "        zipped_pc.append((value, label))\n",
    "    sorted_pc= sorted(zipped_pc, key=lambda item: item[0], reverse=True)\n",
    "    top_n = sorted_pc[:n]\n",
    "    last_n = sorted_pc[-n:]\n",
    "    return top_n, reversed(last_n)"
   ]
  },
  {
   "cell_type": "code",
   "execution_count": null,
   "metadata": {},
   "outputs": [],
   "source": [
    "def print_title(title):\n",
    "    print(\"---------{}---------\".format(title))"
   ]
  },
  {
   "cell_type": "code",
   "execution_count": null,
   "metadata": {},
   "outputs": [],
   "source": [
    "def print_ranking(rank):\n",
    "    for i, (k,v) in enumerate(rank):\n",
    "        print(str(i) + \". \", v, \":\", k)"
   ]
  },
  {
   "cell_type": "code",
   "execution_count": null,
   "metadata": {},
   "outputs": [],
   "source": [
    "top15, last15 = get_top_last_words(pca.components_,attributes,0, n=3)\n",
    "print_title(\"PC1\")\n",
    "print(\"Top 3\")\n",
    "print_ranking(top15)\n",
    "print(\"Top 3 - negative\")\n",
    "print_ranking(last15)"
   ]
  },
  {
   "cell_type": "code",
   "execution_count": null,
   "metadata": {},
   "outputs": [],
   "source": [
    "top15, last15 = get_top_last_words(pca.components_,attributes,1, n=3)\n",
    "print_title(\"PC2\")\n",
    "print(\"Top 3\")\n",
    "print_ranking(top15)\n",
    "print(\"Top 3 - negative\")\n",
    "print_ranking(last15)"
   ]
  },
  {
   "cell_type": "code",
   "execution_count": null,
   "metadata": {},
   "outputs": [],
   "source": [
    "plot_2d_scatter(X_transformed[:,:2], targets)"
   ]
  },
  {
   "cell_type": "markdown",
   "metadata": {},
   "source": [
    "### tSNE"
   ]
  },
  {
   "cell_type": "code",
   "execution_count": null,
   "metadata": {},
   "outputs": [],
   "source": [
    "from sklearn.manifold import TSNE\n",
    "\n",
    "tsne = TSNE(n_iter=500, verbose=2)\n",
    "X_tsne_embedded = tsne.fit_transform(X_scaled)"
   ]
  },
  {
   "cell_type": "code",
   "execution_count": null,
   "metadata": {},
   "outputs": [],
   "source": [
    "def plot_2d_scatter(X, y):\n",
    "    fig, plot = plt.subplots()\n",
    "    fig.set_size_inches(16, 16)\n",
    "    plt.prism()\n",
    "\n",
    "    for val in [True, False]:\n",
    "        viral_indices = y == val\n",
    "        plot.scatter(X[viral_indices, 0], X[viral_indices, 1], label=\"class: \" + str(val))\n",
    "\n",
    "    plot.set_xticks(())\n",
    "    plot.set_yticks(())\n",
    "\n",
    "    plt.tight_layout()\n",
    "    plt.legend()\n",
    "    plt.show()"
   ]
  },
  {
   "cell_type": "code",
   "execution_count": null,
   "metadata": {},
   "outputs": [],
   "source": [
    "plot_2d_scatter(X_tsne_embedded, targets)"
   ]
  },
  {
   "cell_type": "code",
   "execution_count": null,
   "metadata": {},
   "outputs": [],
   "source": []
  }
 ],
 "metadata": {
  "kernelspec": {
   "display_name": "SpotiCharts-vnkoHS0g",
   "language": "python",
   "name": "spoticharts-vnkohs0g"
  },
  "language_info": {
   "codemirror_mode": {
    "name": "ipython",
    "version": 3
   },
   "file_extension": ".py",
   "mimetype": "text/x-python",
   "name": "python",
   "nbconvert_exporter": "python",
   "pygments_lexer": "ipython3",
   "version": "3.8.8"
  }
 },
 "nbformat": 4,
 "nbformat_minor": 4
}
