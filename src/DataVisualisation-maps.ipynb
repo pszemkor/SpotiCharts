{
 "cells": [
  {
   "cell_type": "code",
   "execution_count": null,
   "metadata": {},
   "outputs": [],
   "source": [
    "import matplotlib\n",
    "from matplotlib import pyplot as plt\n",
    "\n",
    "from datetime import date, timedelta\n",
    "from modules.spoticharts import SpotiCharts\n",
    "from modules.plot_utils import *\n",
    "from modules.const import *\n",
    "from modules.metrics import *"
   ]
  },
  {
   "cell_type": "code",
   "execution_count": null,
   "metadata": {},
   "outputs": [],
   "source": [
    "sc = SpotiCharts()"
   ]
  },
  {
   "cell_type": "markdown",
   "metadata": {},
   "source": [
    "# Utils"
   ]
  },
  {
   "cell_type": "code",
   "execution_count": null,
   "metadata": {},
   "outputs": [],
   "source": [
    "polish_neighbors_regions = [\n",
    "    Regions.PL,\n",
    "    Regions.SK,\n",
    "    Regions.CZ,\n",
    "    Regions.DE,\n",
    "    Regions.UA,\n",
    "    Regions.RU,\n",
    "    Regions.LT\n",
    "]"
   ]
  },
  {
   "cell_type": "markdown",
   "metadata": {},
   "source": [
    "# Plots"
   ]
  },
  {
   "cell_type": "markdown",
   "metadata": {},
   "source": [
    "## TOP 200"
   ]
  },
  {
   "cell_type": "markdown",
   "metadata": {},
   "source": [
    "## Total number of streams"
   ]
  },
  {
   "cell_type": "markdown",
   "metadata": {},
   "source": [
    "### The Weeknd"
   ]
  },
  {
   "cell_type": "code",
   "execution_count": null,
   "metadata": {},
   "outputs": [],
   "source": [
    "plot_total_streams_geo(CHARTS['top200'], date(2021,1,1), date(2021,3,20), 'The Weeknd', polish_neighbors_regions)"
   ]
  },
  {
   "cell_type": "markdown",
   "metadata": {},
   "source": [
    "### Taco Hemingway"
   ]
  },
  {
   "cell_type": "code",
   "execution_count": null,
   "metadata": {},
   "outputs": [],
   "source": [
    "plot_total_streams_geo(CHARTS['top200'], date(2021,1,1), date(2021,3,20), 'Taco Hemingway',polish_neighbors_regions)"
   ]
  },
  {
   "cell_type": "markdown",
   "metadata": {},
   "source": [
    "### Billie Eilish"
   ]
  },
  {
   "cell_type": "code",
   "execution_count": null,
   "metadata": {},
   "outputs": [],
   "source": [
    "plot_total_streams_geo(CHARTS['top200'], date(2021,1,1), date(2021,3,20), 'Billie Eilish', polish_neighbors_regions)"
   ]
  },
  {
   "cell_type": "markdown",
   "metadata": {},
   "source": [
    "## Number of songs in Top 200"
   ]
  },
  {
   "cell_type": "markdown",
   "metadata": {},
   "source": [
    "### The Weeknd"
   ]
  },
  {
   "cell_type": "code",
   "execution_count": null,
   "metadata": {},
   "outputs": [],
   "source": [
    "plot_number_of_songs_geo(CHARTS['top200'], date(2021,1,1), date(2021,3,20), 'The Weeknd', polish_neighbors_regions)"
   ]
  },
  {
   "cell_type": "markdown",
   "metadata": {},
   "source": [
    "### Taco Hemingway"
   ]
  },
  {
   "cell_type": "code",
   "execution_count": null,
   "metadata": {},
   "outputs": [],
   "source": [
    "plot_number_of_songs_geo(CHARTS['top200'], date(2021,1,1), date(2021,3,20), 'Taco Hemingway', polish_neighbors_regions)"
   ]
  },
  {
   "cell_type": "markdown",
   "metadata": {},
   "source": [
    "### Billie Eilish"
   ]
  },
  {
   "cell_type": "code",
   "execution_count": null,
   "metadata": {},
   "outputs": [],
   "source": [
    "plot_number_of_songs_geo(CHARTS['top200'], date(2021,1,1), date(2021,3,20), 'Billie Eilish', polish_neighbors_regions)"
   ]
  },
  {
   "cell_type": "markdown",
   "metadata": {},
   "source": [
    "## Rank in Top 200"
   ]
  },
  {
   "cell_type": "markdown",
   "metadata": {},
   "source": [
    "### The Weeknd"
   ]
  },
  {
   "cell_type": "code",
   "execution_count": null,
   "metadata": {},
   "outputs": [],
   "source": [
    "plot_max_rank_geo(CHARTS['top200'], date(2021,1,1), date(2021,3,20), 'The Weeknd', polish_neighbors_regions)"
   ]
  },
  {
   "cell_type": "markdown",
   "metadata": {},
   "source": [
    "### Taco Hemingway"
   ]
  },
  {
   "cell_type": "code",
   "execution_count": null,
   "metadata": {},
   "outputs": [],
   "source": [
    "plot_max_rank_geo(CHARTS['top200'], date(2021,1,1), date(2021,3,20), 'Taco Hemingway', polish_neighbors_regions)"
   ]
  },
  {
   "cell_type": "markdown",
   "metadata": {},
   "source": [
    "### Billie Eilish"
   ]
  },
  {
   "cell_type": "code",
   "execution_count": null,
   "metadata": {},
   "outputs": [],
   "source": [
    "plot_max_rank_geo(CHARTS['top200'], date(2021,1,1), date(2021,3,20), 'Billie Eilish', polish_neighbors_regions)"
   ]
  },
  {
   "cell_type": "markdown",
   "metadata": {},
   "source": [
    "# VIRAL 50"
   ]
  },
  {
   "cell_type": "markdown",
   "metadata": {},
   "source": [
    "### The Weeknd"
   ]
  },
  {
   "cell_type": "code",
   "execution_count": null,
   "metadata": {},
   "outputs": [],
   "source": [
    "plot_max_rank_geo(CHARTS['viral50'], date(2021,1,1), date(2021,3,20), 'The Weeknd', polish_neighbors_regions)"
   ]
  },
  {
   "cell_type": "markdown",
   "metadata": {},
   "source": [
    "### Taco Hemingway"
   ]
  },
  {
   "cell_type": "code",
   "execution_count": null,
   "metadata": {},
   "outputs": [],
   "source": [
    "plot_max_rank_geo(CHARTS['viral50'], date(2021,1,1), date(2021,3,20), 'Taco Hemingway',polish_neighbors_regions)"
   ]
  },
  {
   "cell_type": "markdown",
   "metadata": {},
   "source": [
    "### Billie Eilish"
   ]
  },
  {
   "cell_type": "code",
   "execution_count": null,
   "metadata": {},
   "outputs": [],
   "source": [
    "plot_max_rank_geo(CHARTS['viral50'], date(2021,1,1), date(2021,3,20), 'Billie Eilish', polish_neighbors_regions)"
   ]
  },
  {
   "cell_type": "markdown",
   "metadata": {},
   "source": [
    "# Keywords"
   ]
  },
  {
   "cell_type": "code",
   "execution_count": null,
   "metadata": {},
   "outputs": [],
   "source": [
    "plot_total_streams_of_songs_with_keyword_geo(CHARTS['top200'], date(2020,12,1), date(2021,3,20), 'Christmas|Claus', polish_neighbors_regions)"
   ]
  },
  {
   "cell_type": "code",
   "execution_count": null,
   "metadata": {},
   "outputs": [],
   "source": [
    "plot_total_streams_of_songs_with_keyword_geo(CHARTS['top200'], date(2021,1,1), date(2021,3,20), 'Holidays', polish_neighbors_regions)"
   ]
  },
  {
   "cell_type": "code",
   "execution_count": null,
   "metadata": {},
   "outputs": [],
   "source": [
    "plot_total_streams_of_songs_with_keyword_geo(CHARTS['top200'], date(2021,1,1), date(2021,3,20), 'Starboy', polish_neighbors_regions)"
   ]
  }
 ],
 "metadata": {
  "kernelspec": {
   "display_name": "SpotiCharts-vnkoHS0g",
   "language": "python",
   "name": "spoticharts-vnkohs0g"
  },
  "language_info": {
   "codemirror_mode": {
    "name": "ipython",
    "version": 3
   },
   "file_extension": ".py",
   "mimetype": "text/x-python",
   "name": "python",
   "nbconvert_exporter": "python",
   "pygments_lexer": "ipython3",
   "version": "3.8.8"
  }
 },
 "nbformat": 4,
 "nbformat_minor": 4
}
