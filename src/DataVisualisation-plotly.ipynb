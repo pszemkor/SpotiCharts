{
 "cells": [
  {
   "cell_type": "code",
   "execution_count": null,
   "metadata": {},
   "outputs": [],
   "source": [
    "import matplotlib\n",
    "from matplotlib import pyplot as plt\n",
    "\n",
    "from datetime import date, timedelta\n",
    "from modules.spoticharts import SpotiCharts\n",
    "from modules.plot_utils import *\n",
    "from modules.const import *\n",
    "from modules.metrics import *"
   ]
  },
  {
   "cell_type": "code",
   "execution_count": null,
   "metadata": {},
   "outputs": [],
   "source": [
    "sc = SpotiCharts()"
   ]
  },
  {
   "cell_type": "markdown",
   "metadata": {},
   "source": [
    "# Plot utils"
   ]
  },
  {
   "cell_type": "code",
   "execution_count": null,
   "metadata": {},
   "outputs": [],
   "source": [
    "font = {'weight' : 'bold',\n",
    "        'size'   : 16}\n",
    "\n",
    "matplotlib.rc('font', **font)"
   ]
  },
  {
   "cell_type": "code",
   "execution_count": null,
   "metadata": {},
   "outputs": [],
   "source": [
    "polish_neighbors_regions = [\n",
    "    Regions.PL,\n",
    "    Regions.SK,\n",
    "    Regions.CZ,\n",
    "    Regions.DE,\n",
    "    Regions.UA,\n",
    "    Regions.RU,\n",
    "    Regions.LT\n",
    "]"
   ]
  },
  {
   "cell_type": "markdown",
   "metadata": {},
   "source": [
    "# Plots"
   ]
  },
  {
   "cell_type": "markdown",
   "metadata": {},
   "source": [
    "## TOP 200"
   ]
  },
  {
   "cell_type": "markdown",
   "metadata": {},
   "source": [
    "## Total number of streams"
   ]
  },
  {
   "cell_type": "markdown",
   "metadata": {},
   "source": [
    "### The Weeknd"
   ]
  },
  {
   "cell_type": "code",
   "execution_count": null,
   "metadata": {},
   "outputs": [],
   "source": [
    "plot_total_streams(CHARTS['top200'], date(2017,1,1), date(2021,3,20), 'The Weeknd', \n",
    "                   [Regions.PL, \n",
    "                    Regions.CZ, \n",
    "                    Regions.DE])"
   ]
  },
  {
   "cell_type": "code",
   "execution_count": null,
   "metadata": {},
   "outputs": [],
   "source": [
    "plot_total_streams_geo(CHARTS['top200'], date(2021,1,1), date(2021,3,20), 'The Weeknd', polish_neighbors_regions)"
   ]
  },
  {
   "cell_type": "markdown",
   "metadata": {},
   "source": [
    "### Taco Hemingway"
   ]
  },
  {
   "cell_type": "code",
   "execution_count": null,
   "metadata": {
    "scrolled": true
   },
   "outputs": [],
   "source": [
    "plot_total_streams(CHARTS['top200'], date(2017,1,1), date(2021,3,20), 'Taco Hemingway',\n",
    "                   [Regions.PL, \n",
    "                    Regions.CZ, \n",
    "                    Regions.DE])"
   ]
  },
  {
   "cell_type": "code",
   "execution_count": null,
   "metadata": {},
   "outputs": [],
   "source": [
    "plot_total_streams_geo(CHARTS['top200'], date(2021,1,1), date(2021,3,20), 'Taco Hemingway',polish_neighbors_regions)"
   ]
  },
  {
   "cell_type": "markdown",
   "metadata": {},
   "source": [
    "### Billie Eilish"
   ]
  },
  {
   "cell_type": "code",
   "execution_count": null,
   "metadata": {},
   "outputs": [],
   "source": [
    "plot_total_streams(CHARTS['top200'], date(2017,1,1), date(2021,3,20), 'Billie Eilish',\n",
    "                   [Regions.PL, \n",
    "                    Regions.CZ, \n",
    "                    Regions.DE])"
   ]
  },
  {
   "cell_type": "code",
   "execution_count": null,
   "metadata": {},
   "outputs": [],
   "source": [
    "plot_total_streams(CHARTS['top200'], date(2017,1,1), date(2021,3,20), 'Billie Eilish',\n",
    "                   [Regions.US, \n",
    "                    Regions.CA, \n",
    "                    Regions.MX])"
   ]
  },
  {
   "cell_type": "code",
   "execution_count": null,
   "metadata": {},
   "outputs": [],
   "source": [
    "plot_total_streams(CHARTS['top200'], date(2017,1,1), date(2021,3,20), 'Billie Eilish',\n",
    "                   [Regions.US, \n",
    "                    Regions.GLOBAL, \n",
    "                    Regions.PL])"
   ]
  },
  {
   "cell_type": "code",
   "execution_count": null,
   "metadata": {},
   "outputs": [],
   "source": [
    "plot_total_streams_geo(CHARTS['top200'], date(2021,1,1), date(2021,3,20), 'Billie Eilish', polish_neighbors_regions)"
   ]
  },
  {
   "cell_type": "markdown",
   "metadata": {},
   "source": [
    "## Number of songs in Top 200"
   ]
  },
  {
   "cell_type": "markdown",
   "metadata": {},
   "source": [
    "### The Weeknd"
   ]
  },
  {
   "cell_type": "code",
   "execution_count": null,
   "metadata": {},
   "outputs": [],
   "source": [
    "plot_number_of_songs(CHARTS['top200'], date(2017,1,1), date(2021,3,20), 'The Weeknd',\n",
    "                   [Regions.PL, \n",
    "                    Regions.CZ, \n",
    "                    Regions.DE])"
   ]
  },
  {
   "cell_type": "code",
   "execution_count": null,
   "metadata": {},
   "outputs": [],
   "source": [
    "plot_number_of_songs_geo(CHARTS['top200'], date(2021,1,1), date(2021,3,20), 'The Weeknd', polish_neighbors_regions)"
   ]
  },
  {
   "cell_type": "markdown",
   "metadata": {},
   "source": [
    "### Taco Hemingway"
   ]
  },
  {
   "cell_type": "code",
   "execution_count": null,
   "metadata": {},
   "outputs": [],
   "source": [
    "plot_number_of_songs(CHARTS['top200'], date(2017,1,1), date(2021,3,20), 'Taco Hemingway',\n",
    "                   [Regions.PL, \n",
    "                    Regions.CZ, \n",
    "                    Regions.DE])"
   ]
  },
  {
   "cell_type": "code",
   "execution_count": null,
   "metadata": {},
   "outputs": [],
   "source": [
    "plot_number_of_songs_geo(CHARTS['top200'], date(2021,1,1), date(2021,3,20), 'Taco Hemingway', polish_neighbors_regions)"
   ]
  },
  {
   "cell_type": "markdown",
   "metadata": {},
   "source": [
    "### Billie Eilish"
   ]
  },
  {
   "cell_type": "code",
   "execution_count": null,
   "metadata": {},
   "outputs": [],
   "source": [
    "plot_number_of_songs(CHARTS['top200'], date(2017,1,1), date(2021,3,20), 'Billie Eilish',\n",
    "                   [Regions.PL, \n",
    "                    Regions.CZ, \n",
    "                    Regions.DE])"
   ]
  },
  {
   "cell_type": "code",
   "execution_count": null,
   "metadata": {},
   "outputs": [],
   "source": [
    "plot_number_of_songs_geo(CHARTS['top200'], date(2021,1,1), date(2021,3,20), 'Billie Eilish', polish_neighbors_regions)"
   ]
  },
  {
   "cell_type": "markdown",
   "metadata": {},
   "source": [
    "## Rank in Top 200"
   ]
  },
  {
   "cell_type": "markdown",
   "metadata": {},
   "source": [
    "### The Weeknd"
   ]
  },
  {
   "cell_type": "code",
   "execution_count": null,
   "metadata": {},
   "outputs": [],
   "source": [
    "plot_max_rank(CHARTS['top200'], date(2017,1,1), date(2021,3,20), 'The Weeknd',\n",
    "                   [Regions.PL, \n",
    "                    Regions.CZ, \n",
    "                    Regions.DE])"
   ]
  },
  {
   "cell_type": "code",
   "execution_count": null,
   "metadata": {},
   "outputs": [],
   "source": [
    "plot_max_rank_geo(CHARTS['top200'], date(2021,1,1), date(2021,3,20), 'The Weeknd', polish_neighbors_regions)"
   ]
  },
  {
   "cell_type": "markdown",
   "metadata": {},
   "source": [
    "### Taco Hemingway"
   ]
  },
  {
   "cell_type": "code",
   "execution_count": null,
   "metadata": {},
   "outputs": [],
   "source": [
    "plot_max_rank(CHARTS['top200'], date(2017,1,1), date(2021,3,20), 'Taco Hemingway',\n",
    "                   [Regions.PL, \n",
    "                    Regions.CZ, \n",
    "                    Regions.DE])"
   ]
  },
  {
   "cell_type": "code",
   "execution_count": null,
   "metadata": {},
   "outputs": [],
   "source": [
    "plot_max_rank_geo(CHARTS['top200'], date(2021,1,1), date(2021,3,20), 'Taco Hemingway', polish_neighbors_regions)"
   ]
  },
  {
   "cell_type": "markdown",
   "metadata": {},
   "source": [
    "### Billie Eilish"
   ]
  },
  {
   "cell_type": "code",
   "execution_count": null,
   "metadata": {},
   "outputs": [],
   "source": [
    "plot_max_rank(CHARTS['top200'], date(2017,1,1), date(2021,3,20), 'Billie Eilish',\n",
    "                   [Regions.PL, \n",
    "                    Regions.CZ, \n",
    "                    Regions.DE])"
   ]
  },
  {
   "cell_type": "code",
   "execution_count": null,
   "metadata": {},
   "outputs": [],
   "source": [
    "plot_max_rank_geo(CHARTS['top200'], date(2021,1,1), date(2021,3,20), 'Billie Eilish', polish_neighbors_regions)"
   ]
  },
  {
   "cell_type": "markdown",
   "metadata": {},
   "source": [
    "# VIRAL 50"
   ]
  },
  {
   "cell_type": "markdown",
   "metadata": {},
   "source": [
    "### The Weeknd"
   ]
  },
  {
   "cell_type": "code",
   "execution_count": null,
   "metadata": {},
   "outputs": [],
   "source": [
    "plot_max_rank(CHARTS['viral50'], date(2017,1,1), date(2021,3,20), 'The Weeknd',\n",
    "                   [Regions.PL, \n",
    "                    Regions.CZ, \n",
    "                    Regions.DE])"
   ]
  },
  {
   "cell_type": "code",
   "execution_count": null,
   "metadata": {},
   "outputs": [],
   "source": [
    "plot_max_rank_geo(CHARTS['viral50'], date(2021,1,1), date(2021,3,20), 'The Weeknd', polish_neighbors_regions)"
   ]
  },
  {
   "cell_type": "markdown",
   "metadata": {},
   "source": [
    "### Taco Hemingway"
   ]
  },
  {
   "cell_type": "code",
   "execution_count": null,
   "metadata": {},
   "outputs": [],
   "source": [
    "plot_max_rank(CHARTS['viral50'], date(2017,1,1), date(2021,3,20), 'Taco Hemingway',\n",
    "                   [Regions.PL, \n",
    "                    Regions.CZ, \n",
    "                    Regions.DE])"
   ]
  },
  {
   "cell_type": "code",
   "execution_count": null,
   "metadata": {},
   "outputs": [],
   "source": [
    "plot_max_rank_geo(CHARTS['viral50'], date(2021,1,1), date(2021,3,20), 'Taco Hemingway',polish_neighbors_regions)"
   ]
  },
  {
   "cell_type": "markdown",
   "metadata": {},
   "source": [
    "### Billie Eilish"
   ]
  },
  {
   "cell_type": "code",
   "execution_count": null,
   "metadata": {},
   "outputs": [],
   "source": [
    "plot_max_rank(CHARTS['viral50'], date(2017,1,1), date(2021,3,20), 'Billie Eilish',\n",
    "                   [Regions.PL, \n",
    "                    Regions.CZ, \n",
    "                    Regions.DE])"
   ]
  },
  {
   "cell_type": "code",
   "execution_count": null,
   "metadata": {},
   "outputs": [],
   "source": [
    "plot_max_rank_geo(CHARTS['viral50'], date(2021,1,1), date(2021,3,20), 'Billie Eilish', polish_neighbors_regions)"
   ]
  },
  {
   "cell_type": "markdown",
   "metadata": {},
   "source": [
    "# Keywords"
   ]
  },
  {
   "cell_type": "code",
   "execution_count": null,
   "metadata": {},
   "outputs": [],
   "source": [
    "plot_total_streams_of_songs_with_keyword(CHARTS['top200'], date(2017,1,1), date(2021,3,20), 'Christmas|Claus',\n",
    "                   [Regions.GLOBAL, \n",
    "                    Regions.PL])"
   ]
  },
  {
   "cell_type": "code",
   "execution_count": null,
   "metadata": {},
   "outputs": [],
   "source": [
    "plot_total_streams_of_songs_with_keyword_geo(CHARTS['top200'], date(2020,12,1), date(2021,3,20), 'Christmas|Claus', polish_neighbors_regions)"
   ]
  },
  {
   "cell_type": "code",
   "execution_count": null,
   "metadata": {},
   "outputs": [],
   "source": [
    "plot_total_streams_of_songs_with_keyword(CHARTS['top200'], date(2017,1,1), date(2021,3,20), 'Holidays',\n",
    "                   [Regions.GLOBAL, \n",
    "                    Regions.PL])"
   ]
  },
  {
   "cell_type": "code",
   "execution_count": null,
   "metadata": {},
   "outputs": [],
   "source": [
    "plot_total_streams_of_songs_with_keyword_geo(CHARTS['top200'], date(2021,1,1), date(2021,3,20), 'Holidays', polish_neighbors_regions)"
   ]
  },
  {
   "cell_type": "code",
   "execution_count": null,
   "metadata": {
    "scrolled": true
   },
   "outputs": [],
   "source": [
    "plot_total_streams_of_songs_with_keyword(CHARTS['top200'], date(2017,1,1), date(2021,3,20), 'Starboy',\n",
    "                   [Regions.GLOBAL, \n",
    "                    Regions.PL])"
   ]
  },
  {
   "cell_type": "code",
   "execution_count": null,
   "metadata": {},
   "outputs": [],
   "source": [
    "plot_total_streams_of_songs_with_keyword_geo(CHARTS['top200'], date(2021,1,1), date(2021,3,20), 'Starboy', polish_neighbors_regions)"
   ]
  },
  {
   "cell_type": "markdown",
   "metadata": {},
   "source": [
    "## Audio characteristic"
   ]
  },
  {
   "cell_type": "code",
   "execution_count": null,
   "metadata": {},
   "outputs": [],
   "source": [
    "plot_average_value_of_audio_feature(CHARTS['top200'], date(2021,1,1), date(2021,3,20), 'danceability',\n",
    "                   [Regions.PL])"
   ]
  },
  {
   "cell_type": "code",
   "execution_count": null,
   "metadata": {},
   "outputs": [],
   "source": []
  }
 ],
 "metadata": {
  "kernelspec": {
   "display_name": "SpotiCharts-AIc4iQwH",
   "language": "python",
   "name": "spoticharts-aic4iqwh"
  },
  "language_info": {
   "codemirror_mode": {
    "name": "ipython",
    "version": 3
   },
   "file_extension": ".py",
   "mimetype": "text/x-python",
   "name": "python",
   "nbconvert_exporter": "python",
   "pygments_lexer": "ipython3",
   "version": "3.7.10"
  }
 },
 "nbformat": 4,
 "nbformat_minor": 4
}
