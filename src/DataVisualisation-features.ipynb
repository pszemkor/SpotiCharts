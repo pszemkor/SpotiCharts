{
 "cells": [
  {
   "cell_type": "code",
   "execution_count": null,
   "metadata": {},
   "outputs": [],
   "source": [
    "import matplotlib\n",
    "from matplotlib import pyplot as plt\n",
    "\n",
    "from datetime import date, timedelta\n",
    "from modules.spoticharts import SpotiCharts\n",
    "from modules.plot_utils import *\n",
    "from modules.const import *\n",
    "from modules.metrics import *"
   ]
  },
  {
   "cell_type": "code",
   "execution_count": null,
   "metadata": {},
   "outputs": [],
   "source": [
    "plot_average_value_of_audio_feature(CHARTS['top200'], date(2021,1,1), date(2021,3,20), 'danceability',\n",
    "                   [Regions.PL])"
   ]
  },
  {
   "cell_type": "code",
   "execution_count": null,
   "metadata": {},
   "outputs": [],
   "source": [
    "plot_average_value_of_audio_feature(CHARTS['top200'], date(2021,1,1), date(2021,3,20), 'energy',\n",
    "                   [Regions.PL])"
   ]
  },
  {
   "cell_type": "code",
   "execution_count": null,
   "metadata": {},
   "outputs": [],
   "source": [
    "plot_average_value_of_audio_feature(CHARTS['top200'], date(2021,1,1), date(2021,3,20), 'valence',\n",
    "                   [Regions.PL])"
   ]
  },
  {
   "cell_type": "code",
   "execution_count": null,
   "metadata": {},
   "outputs": [],
   "source": [
    "plot_average_value_of_audio_feature(CHARTS['top200'], date(2021,1,1), date(2021,3,20), 'duration_ms',\n",
    "                   [Regions.PL])"
   ]
  },
  {
   "cell_type": "code",
   "execution_count": null,
   "metadata": {},
   "outputs": [],
   "source": []
  }
 ],
 "metadata": {
  "kernelspec": {
   "display_name": "SpotiCharts-vnkoHS0g",
   "language": "python",
   "name": "spoticharts-vnkohs0g"
  },
  "language_info": {
   "codemirror_mode": {
    "name": "ipython",
    "version": 3
   },
   "file_extension": ".py",
   "mimetype": "text/x-python",
   "name": "python",
   "nbconvert_exporter": "python",
   "pygments_lexer": "ipython3",
   "version": "3.8.8"
  }
 },
 "nbformat": 4,
 "nbformat_minor": 4
}
