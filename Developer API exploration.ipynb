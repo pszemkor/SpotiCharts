{
 "cells": [
  {
   "cell_type": "code",
   "execution_count": 53,
   "metadata": {},
   "outputs": [],
   "source": [
    "from fycharts.SpotifyCharts import SpotifyCharts\n",
    "import numpy as np\n",
    "import pandas as pd\n",
    "import sqlalchemy\n",
    "import matplotlib\n",
    "from matplotlib import pyplot as plt\n",
    "from datetime import date, timedelta\n",
    "import requests\n",
    "from dotenv import load_dotenv\n",
    "import os\n",
    "import json\n",
    "import urllib.parse"
   ]
  },
  {
   "cell_type": "code",
   "execution_count": 23,
   "metadata": {},
   "outputs": [],
   "source": [
    " \"\"\"\n",
    "1. create .env file\n",
    "2. Paste your Spotify OAuth Token:\n",
    "TOKEN=%{OAuth_Token}\n",
    "\n",
    "it is included in .gitignore, don't change it 😊\n",
    "\"\"\"\n",
    "load_dotenv(verbose=True)\n",
    "spotify_token = os.getenv(\"TOKEN\")"
   ]
  },
  {
   "cell_type": "code",
   "execution_count": 26,
   "metadata": {},
   "outputs": [
    {
     "data": {
      "text/html": [
       "<div>\n",
       "<style scoped>\n",
       "    .dataframe tbody tr th:only-of-type {\n",
       "        vertical-align: middle;\n",
       "    }\n",
       "\n",
       "    .dataframe tbody tr th {\n",
       "        vertical-align: top;\n",
       "    }\n",
       "\n",
       "    .dataframe thead th {\n",
       "        text-align: right;\n",
       "    }\n",
       "</style>\n",
       "<table border=\"1\" class=\"dataframe\">\n",
       "  <thead>\n",
       "    <tr style=\"text-align: right;\">\n",
       "      <th></th>\n",
       "      <th>Position</th>\n",
       "      <th>Track Name</th>\n",
       "      <th>Artist</th>\n",
       "      <th>Streams</th>\n",
       "      <th>date</th>\n",
       "      <th>region</th>\n",
       "      <th>spotify_id</th>\n",
       "    </tr>\n",
       "  </thead>\n",
       "  <tbody>\n",
       "    <tr>\n",
       "      <th>0</th>\n",
       "      <td>1.0</td>\n",
       "      <td>The Box</td>\n",
       "      <td>Roddy Ricch</td>\n",
       "      <td>1812103.0</td>\n",
       "      <td>2020-01-01</td>\n",
       "      <td>us</td>\n",
       "      <td>0nbXyq5TXYPCO7pr3N8S4I</td>\n",
       "    </tr>\n",
       "    <tr>\n",
       "      <th>1</th>\n",
       "      <td>2.0</td>\n",
       "      <td>ROXANNE</td>\n",
       "      <td>Arizona Zervas</td>\n",
       "      <td>1400495.0</td>\n",
       "      <td>2020-01-01</td>\n",
       "      <td>us</td>\n",
       "      <td>696DnlkuDOXcMAnKlTgXXK</td>\n",
       "    </tr>\n",
       "    <tr>\n",
       "      <th>2</th>\n",
       "      <td>3.0</td>\n",
       "      <td>Circles</td>\n",
       "      <td>Post Malone</td>\n",
       "      <td>1186861.0</td>\n",
       "      <td>2020-01-01</td>\n",
       "      <td>us</td>\n",
       "      <td>21jGcNKet2qwijlDFuPiPb</td>\n",
       "    </tr>\n",
       "    <tr>\n",
       "      <th>3</th>\n",
       "      <td>4.0</td>\n",
       "      <td>BOP</td>\n",
       "      <td>DaBaby</td>\n",
       "      <td>1130123.0</td>\n",
       "      <td>2020-01-01</td>\n",
       "      <td>us</td>\n",
       "      <td>6Ozh9Ok6h4Oi1wUSLtBseN</td>\n",
       "    </tr>\n",
       "    <tr>\n",
       "      <th>4</th>\n",
       "      <td>5.0</td>\n",
       "      <td>Bandit (with YoungBoy Never Broke Again)</td>\n",
       "      <td>Juice WRLD</td>\n",
       "      <td>968612.0</td>\n",
       "      <td>2020-01-01</td>\n",
       "      <td>us</td>\n",
       "      <td>6Gg1gjgKi2AK4e0qzsR7sd</td>\n",
       "    </tr>\n",
       "  </tbody>\n",
       "</table>\n",
       "</div>"
      ],
      "text/plain": [
       "   Position                                Track Name          Artist  \\\n",
       "0       1.0                                   The Box     Roddy Ricch   \n",
       "1       2.0                                   ROXANNE  Arizona Zervas   \n",
       "2       3.0                                   Circles     Post Malone   \n",
       "3       4.0                                       BOP          DaBaby   \n",
       "4       5.0  Bandit (with YoungBoy Never Broke Again)      Juice WRLD   \n",
       "\n",
       "     Streams        date region              spotify_id  \n",
       "0  1812103.0  2020-01-01     us  0nbXyq5TXYPCO7pr3N8S4I  \n",
       "1  1400495.0  2020-01-01     us  696DnlkuDOXcMAnKlTgXXK  \n",
       "2  1186861.0  2020-01-01     us  21jGcNKet2qwijlDFuPiPb  \n",
       "3  1130123.0  2020-01-01     us  6Ozh9Ok6h4Oi1wUSLtBseN  \n",
       "4   968612.0  2020-01-01     us  6Gg1gjgKi2AK4e0qzsR7sd  "
      ]
     },
     "execution_count": 26,
     "metadata": {},
     "output_type": "execute_result"
    }
   ],
   "source": [
    "df = pd.read_csv(\"2020-2021_daily_top_200.csv\")\n",
    "df.head()"
   ]
  },
  {
   "cell_type": "code",
   "execution_count": 28,
   "metadata": {},
   "outputs": [],
   "source": [
    "def get_headers():\n",
    "    return {'Authorization' : 'Bearer {}'.format(os.getenv(\"TOKEN\")),\n",
    "            'Content-Type': 'application/json',\n",
    "            'Accept': 'application/json'}"
   ]
  },
  {
   "cell_type": "code",
   "execution_count": 13,
   "metadata": {},
   "outputs": [],
   "source": [
    "def get_artist_id_by_track_id(track_id):\n",
    "    pass"
   ]
  },
  {
   "cell_type": "code",
   "execution_count": 71,
   "metadata": {},
   "outputs": [],
   "source": [
    "def get_albums_of_tracks(ids):\n",
    "    endpoint = \"https://api.spotify.com/v1/tracks?ids=\"\n",
    "    for i, track_id in enumerate(ids):\n",
    "        endpoint += track_id\n",
    "        if i != len(ids) - 1:\n",
    "            endpoint += \",\"        \n",
    "    response = requests.get(endpoint, headers=get_headers())\n",
    "    tracks = json.loads(response.text)['tracks']\n",
    "    track_album = {}\n",
    "    for track in tracks:\n",
    "        album = track['album']\n",
    "        album_id = album['id']\n",
    "        track_album[track['id']] = album_id\n",
    "    return track_album\n",
    "    \n"
   ]
  },
  {
   "cell_type": "code",
   "execution_count": null,
   "metadata": {},
   "outputs": [],
   "source": [
    "def get_tracks_from_album(track_id):\n",
    "    pass"
   ]
  },
  {
   "cell_type": "code",
   "execution_count": 41,
   "metadata": {},
   "outputs": [],
   "source": [
    "def get_track_features(track_id):\n",
    "    endpoint = \"https://api.spotify.com/v1/audio-features/{}\".format(track_id)\n",
    "    response = requests.get(endpoint, headers=get_headers())\n",
    "    print(json.loads(response.text))"
   ]
  },
  {
   "cell_type": "code",
   "execution_count": 21,
   "metadata": {},
   "outputs": [],
   "source": [
    "def get_data_by_coutry(country_code, df):\n",
    "    pass"
   ]
  },
  {
   "cell_type": "code",
   "execution_count": 22,
   "metadata": {},
   "outputs": [],
   "source": [
    "def was_track_on_viral_list(track_id, df, country_code):\n",
    "    pass"
   ]
  },
  {
   "cell_type": "code",
   "execution_count": 43,
   "metadata": {},
   "outputs": [
    {
     "data": {
      "text/plain": [
       "{'danceability': 0.735,\n",
       " 'energy': 0.578,\n",
       " 'key': 5,\n",
       " 'loudness': -11.84,\n",
       " 'mode': 0,\n",
       " 'speechiness': 0.0461,\n",
       " 'acousticness': 0.514,\n",
       " 'instrumentalness': 0.0902,\n",
       " 'liveness': 0.159,\n",
       " 'valence': 0.636,\n",
       " 'tempo': 98.002,\n",
       " 'type': 'audio_features',\n",
       " 'id': '06AKEBrKUckW0KREUWRnvT',\n",
       " 'uri': 'spotify:track:06AKEBrKUckW0KREUWRnvT',\n",
       " 'track_href': 'https://api.spotify.com/v1/tracks/06AKEBrKUckW0KREUWRnvT',\n",
       " 'analysis_url': 'https://api.spotify.com/v1/audio-analysis/06AKEBrKUckW0KREUWRnvT',\n",
       " 'duration_ms': 255349,\n",
       " 'time_signature': 4}"
      ]
     },
     "execution_count": 43,
     "metadata": {},
     "output_type": "execute_result"
    }
   ],
   "source": [
    "get_track_features('06AKEBrKUckW0KREUWRnvT')"
   ]
  },
  {
   "cell_type": "code",
   "execution_count": 73,
   "metadata": {},
   "outputs": [
    {
     "data": {
      "text/plain": [
       "{'06AKEBrKUckW0KREUWRnvT': '7q4gKzB9XsZ4MfGj4RYQko'}"
      ]
     },
     "execution_count": 73,
     "metadata": {},
     "output_type": "execute_result"
    }
   ],
   "source": [
    "get_albums_of_tracks(['06AKEBrKUckW0KREUWRnvT'])"
   ]
  },
  {
   "cell_type": "code",
   "execution_count": null,
   "metadata": {},
   "outputs": [],
   "source": []
  }
 ],
 "metadata": {
  "kernelspec": {
   "display_name": "Python 3",
   "language": "python",
   "name": "python3"
  },
  "language_info": {
   "codemirror_mode": {
    "name": "ipython",
    "version": 3
   },
   "file_extension": ".py",
   "mimetype": "text/x-python",
   "name": "python",
   "nbconvert_exporter": "python",
   "pygments_lexer": "ipython3",
   "version": "3.8.5"
  }
 },
 "nbformat": 4,
 "nbformat_minor": 4
}
